{
 "cells": [
  {
   "cell_type": "code",
   "execution_count": 1,
   "id": "99b35772-1d04-4e2c-b71d-6bf8a13d5338",
   "metadata": {
    "execution": {
     "iopub.execute_input": "2024-09-02T15:38:42.653311Z",
     "iopub.status.busy": "2024-09-02T15:38:42.653311Z",
     "iopub.status.idle": "2024-09-02T15:38:42.947921Z",
     "shell.execute_reply": "2024-09-02T15:38:42.946905Z",
     "shell.execute_reply.started": "2024-09-02T15:38:42.653311Z"
    }
   },
   "outputs": [],
   "source": [
    "import polars as pl"
   ]
  },
  {
   "cell_type": "code",
   "execution_count": 2,
   "id": "14174a6c-e1e7-45dd-b212-b4ad7514a62c",
   "metadata": {
    "execution": {
     "iopub.execute_input": "2024-09-02T15:38:42.956948Z",
     "iopub.status.busy": "2024-09-02T15:38:42.954947Z",
     "iopub.status.idle": "2024-09-02T15:38:42.964863Z",
     "shell.execute_reply": "2024-09-02T15:38:42.962845Z",
     "shell.execute_reply.started": "2024-09-02T15:38:42.956948Z"
    }
   },
   "outputs": [],
   "source": [
    "from datetime import datetime"
   ]
  },
  {
   "cell_type": "code",
   "execution_count": 3,
   "id": "e2fc45a3-ae04-4403-ae82-438f7edcf2b0",
   "metadata": {
    "execution": {
     "iopub.execute_input": "2024-09-02T15:38:43.167955Z",
     "iopub.status.busy": "2024-09-02T15:38:43.166978Z",
     "iopub.status.idle": "2024-09-02T15:38:43.178731Z",
     "shell.execute_reply": "2024-09-02T15:38:43.176704Z",
     "shell.execute_reply.started": "2024-09-02T15:38:43.167955Z"
    }
   },
   "outputs": [],
   "source": [
    "df = pl.DataFrame({\"payment\": [23, 12, 34], \n",
    "                   \"time\": [datetime(2024,1,1), datetime(2024,1,2), datetime(2024,1,3)],\n",
    "                   \"customer\": [\"X\", \"Y\", \"Z\"]})"
   ]
  },
  {
   "cell_type": "code",
   "execution_count": 4,
   "id": "cedccebc-98d1-4fe0-9273-0bdb5377b22c",
   "metadata": {
    "execution": {
     "iopub.execute_input": "2024-09-02T15:38:43.415858Z",
     "iopub.status.busy": "2024-09-02T15:38:43.414843Z",
     "iopub.status.idle": "2024-09-02T15:38:43.436092Z",
     "shell.execute_reply": "2024-09-02T15:38:43.434074Z",
     "shell.execute_reply.started": "2024-09-02T15:38:43.415858Z"
    }
   },
   "outputs": [
    {
     "data": {
      "text/html": [
       "<div><style>\n",
       ".dataframe > thead > tr,\n",
       ".dataframe > tbody > tr {\n",
       "  text-align: right;\n",
       "  white-space: pre-wrap;\n",
       "}\n",
       "</style>\n",
       "<small>shape: (3, 3)</small><table border=\"1\" class=\"dataframe\"><thead><tr><th>payment</th><th>time</th><th>customer</th></tr><tr><td>i64</td><td>datetime[μs]</td><td>str</td></tr></thead><tbody><tr><td>23</td><td>2024-01-01 00:00:00</td><td>&quot;X&quot;</td></tr><tr><td>12</td><td>2024-01-02 00:00:00</td><td>&quot;Y&quot;</td></tr><tr><td>34</td><td>2024-01-03 00:00:00</td><td>&quot;Z&quot;</td></tr></tbody></table></div>"
      ],
      "text/plain": [
       "shape: (3, 3)\n",
       "┌─────────┬─────────────────────┬──────────┐\n",
       "│ payment ┆ time                ┆ customer │\n",
       "│ ---     ┆ ---                 ┆ ---      │\n",
       "│ i64     ┆ datetime[μs]        ┆ str      │\n",
       "╞═════════╪═════════════════════╪══════════╡\n",
       "│ 23      ┆ 2024-01-01 00:00:00 ┆ X        │\n",
       "│ 12      ┆ 2024-01-02 00:00:00 ┆ Y        │\n",
       "│ 34      ┆ 2024-01-03 00:00:00 ┆ Z        │\n",
       "└─────────┴─────────────────────┴──────────┘"
      ]
     },
     "execution_count": 4,
     "metadata": {},
     "output_type": "execute_result"
    }
   ],
   "source": [
    "df"
   ]
  },
  {
   "cell_type": "code",
   "execution_count": 5,
   "id": "7fbe530c-b359-4f1a-bbc5-91322ffc9dbb",
   "metadata": {
    "execution": {
     "iopub.execute_input": "2024-09-02T15:38:43.647771Z",
     "iopub.status.busy": "2024-09-02T15:38:43.646771Z",
     "iopub.status.idle": "2024-09-02T15:38:43.662843Z",
     "shell.execute_reply": "2024-09-02T15:38:43.660825Z",
     "shell.execute_reply.started": "2024-09-02T15:38:43.647771Z"
    }
   },
   "outputs": [
    {
     "data": {
      "text/html": [
       "<div><style>\n",
       ".dataframe > thead > tr,\n",
       ".dataframe > tbody > tr {\n",
       "  text-align: right;\n",
       "  white-space: pre-wrap;\n",
       "}\n",
       "</style>\n",
       "<small>shape: (3, 3)</small><table border=\"1\" class=\"dataframe\"><thead><tr><th>payment</th><th>time</th><th>customer</th></tr><tr><td>i64</td><td>datetime[μs]</td><td>str</td></tr></thead><tbody><tr><td>23</td><td>2024-01-01 00:00:00</td><td>&quot;X&quot;</td></tr><tr><td>12</td><td>2024-01-02 00:00:00</td><td>&quot;Y&quot;</td></tr><tr><td>34</td><td>2024-01-03 00:00:00</td><td>&quot;Z&quot;</td></tr></tbody></table></div>"
      ],
      "text/plain": [
       "shape: (3, 3)\n",
       "┌─────────┬─────────────────────┬──────────┐\n",
       "│ payment ┆ time                ┆ customer │\n",
       "│ ---     ┆ ---                 ┆ ---      │\n",
       "│ i64     ┆ datetime[μs]        ┆ str      │\n",
       "╞═════════╪═════════════════════╪══════════╡\n",
       "│ 23      ┆ 2024-01-01 00:00:00 ┆ X        │\n",
       "│ 12      ┆ 2024-01-02 00:00:00 ┆ Y        │\n",
       "│ 34      ┆ 2024-01-03 00:00:00 ┆ Z        │\n",
       "└─────────┴─────────────────────┴──────────┘"
      ]
     },
     "execution_count": 5,
     "metadata": {},
     "output_type": "execute_result"
    }
   ],
   "source": [
    "df.select(pl.col(\"*\"))"
   ]
  },
  {
   "cell_type": "code",
   "execution_count": 6,
   "id": "a25b5914-5199-47c6-831e-81213c6ef738",
   "metadata": {
    "execution": {
     "iopub.execute_input": "2024-09-02T15:38:43.851614Z",
     "iopub.status.busy": "2024-09-02T15:38:43.850614Z",
     "iopub.status.idle": "2024-09-02T15:38:43.865484Z",
     "shell.execute_reply": "2024-09-02T15:38:43.863469Z",
     "shell.execute_reply.started": "2024-09-02T15:38:43.851614Z"
    }
   },
   "outputs": [
    {
     "data": {
      "text/html": [
       "<div><style>\n",
       ".dataframe > thead > tr,\n",
       ".dataframe > tbody > tr {\n",
       "  text-align: right;\n",
       "  white-space: pre-wrap;\n",
       "}\n",
       "</style>\n",
       "<small>shape: (3, 2)</small><table border=\"1\" class=\"dataframe\"><thead><tr><th>payment</th><th>time</th></tr><tr><td>i64</td><td>datetime[μs]</td></tr></thead><tbody><tr><td>23</td><td>2024-01-01 00:00:00</td></tr><tr><td>12</td><td>2024-01-02 00:00:00</td></tr><tr><td>34</td><td>2024-01-03 00:00:00</td></tr></tbody></table></div>"
      ],
      "text/plain": [
       "shape: (3, 2)\n",
       "┌─────────┬─────────────────────┐\n",
       "│ payment ┆ time                │\n",
       "│ ---     ┆ ---                 │\n",
       "│ i64     ┆ datetime[μs]        │\n",
       "╞═════════╪═════════════════════╡\n",
       "│ 23      ┆ 2024-01-01 00:00:00 │\n",
       "│ 12      ┆ 2024-01-02 00:00:00 │\n",
       "│ 34      ┆ 2024-01-03 00:00:00 │\n",
       "└─────────┴─────────────────────┘"
      ]
     },
     "execution_count": 6,
     "metadata": {},
     "output_type": "execute_result"
    }
   ],
   "source": [
    "df.select(pl.col(\"payment\", \"time\"))"
   ]
  },
  {
   "cell_type": "code",
   "execution_count": 7,
   "id": "7656a36e-83d2-4b85-a8fd-54cfbbb4e2e0",
   "metadata": {
    "execution": {
     "iopub.execute_input": "2024-09-02T15:38:44.067728Z",
     "iopub.status.busy": "2024-09-02T15:38:44.066728Z",
     "iopub.status.idle": "2024-09-02T15:38:44.081447Z",
     "shell.execute_reply": "2024-09-02T15:38:44.080405Z",
     "shell.execute_reply.started": "2024-09-02T15:38:44.066728Z"
    }
   },
   "outputs": [
    {
     "data": {
      "text/html": [
       "<div><style>\n",
       ".dataframe > thead > tr,\n",
       ".dataframe > tbody > tr {\n",
       "  text-align: right;\n",
       "  white-space: pre-wrap;\n",
       "}\n",
       "</style>\n",
       "<small>shape: (1, 3)</small><table border=\"1\" class=\"dataframe\"><thead><tr><th>payment</th><th>time</th><th>customer</th></tr><tr><td>i64</td><td>datetime[μs]</td><td>str</td></tr></thead><tbody><tr><td>23</td><td>2024-01-01 00:00:00</td><td>&quot;X&quot;</td></tr></tbody></table></div>"
      ],
      "text/plain": [
       "shape: (1, 3)\n",
       "┌─────────┬─────────────────────┬──────────┐\n",
       "│ payment ┆ time                ┆ customer │\n",
       "│ ---     ┆ ---                 ┆ ---      │\n",
       "│ i64     ┆ datetime[μs]        ┆ str      │\n",
       "╞═════════╪═════════════════════╪══════════╡\n",
       "│ 23      ┆ 2024-01-01 00:00:00 ┆ X        │\n",
       "└─────────┴─────────────────────┴──────────┘"
      ]
     },
     "execution_count": 7,
     "metadata": {},
     "output_type": "execute_result"
    }
   ],
   "source": [
    "df.filter(pl.col(\"payment\").is_between(20, 30))"
   ]
  },
  {
   "cell_type": "code",
   "execution_count": 8,
   "id": "7695fed8-6076-43f3-bc3c-639b484d6bff",
   "metadata": {
    "execution": {
     "iopub.execute_input": "2024-09-02T15:38:44.295617Z",
     "iopub.status.busy": "2024-09-02T15:38:44.294601Z",
     "iopub.status.idle": "2024-09-02T15:38:44.310331Z",
     "shell.execute_reply": "2024-09-02T15:38:44.309288Z",
     "shell.execute_reply.started": "2024-09-02T15:38:44.295617Z"
    }
   },
   "outputs": [
    {
     "data": {
      "text/html": [
       "<div><style>\n",
       ".dataframe > thead > tr,\n",
       ".dataframe > tbody > tr {\n",
       "  text-align: right;\n",
       "  white-space: pre-wrap;\n",
       "}\n",
       "</style>\n",
       "<small>shape: (3, 3)</small><table border=\"1\" class=\"dataframe\"><thead><tr><th>payment</th><th>time</th><th>customer</th></tr><tr><td>i64</td><td>datetime[μs]</td><td>str</td></tr></thead><tbody><tr><td>23</td><td>2024-01-01 00:00:00</td><td>&quot;X&quot;</td></tr><tr><td>12</td><td>2024-01-02 00:00:00</td><td>&quot;Y&quot;</td></tr><tr><td>34</td><td>2024-01-03 00:00:00</td><td>&quot;Z&quot;</td></tr></tbody></table></div>"
      ],
      "text/plain": [
       "shape: (3, 3)\n",
       "┌─────────┬─────────────────────┬──────────┐\n",
       "│ payment ┆ time                ┆ customer │\n",
       "│ ---     ┆ ---                 ┆ ---      │\n",
       "│ i64     ┆ datetime[μs]        ┆ str      │\n",
       "╞═════════╪═════════════════════╪══════════╡\n",
       "│ 23      ┆ 2024-01-01 00:00:00 ┆ X        │\n",
       "│ 12      ┆ 2024-01-02 00:00:00 ┆ Y        │\n",
       "│ 34      ┆ 2024-01-03 00:00:00 ┆ Z        │\n",
       "└─────────┴─────────────────────┴──────────┘"
      ]
     },
     "execution_count": 8,
     "metadata": {},
     "output_type": "execute_result"
    }
   ],
   "source": [
    "df.filter(pl.col(\"payment\").is_not_nan())"
   ]
  },
  {
   "cell_type": "code",
   "execution_count": 9,
   "id": "f2b8afce-5768-456a-b111-2a6780dda9ba",
   "metadata": {
    "execution": {
     "iopub.execute_input": "2024-09-02T15:38:44.536294Z",
     "iopub.status.busy": "2024-09-02T15:38:44.535278Z",
     "iopub.status.idle": "2024-09-02T15:38:44.551004Z",
     "shell.execute_reply": "2024-09-02T15:38:44.549960Z",
     "shell.execute_reply.started": "2024-09-02T15:38:44.536294Z"
    }
   },
   "outputs": [
    {
     "data": {
      "text/html": [
       "<div><style>\n",
       ".dataframe > thead > tr,\n",
       ".dataframe > tbody > tr {\n",
       "  text-align: right;\n",
       "  white-space: pre-wrap;\n",
       "}\n",
       "</style>\n",
       "<small>shape: (3, 4)</small><table border=\"1\" class=\"dataframe\"><thead><tr><th>payment</th><th>time</th><th>customer</th><th>payment_dollar</th></tr><tr><td>i64</td><td>datetime[μs]</td><td>str</td><td>f64</td></tr></thead><tbody><tr><td>23</td><td>2024-01-01 00:00:00</td><td>&quot;X&quot;</td><td>0.23</td></tr><tr><td>12</td><td>2024-01-02 00:00:00</td><td>&quot;Y&quot;</td><td>0.12</td></tr><tr><td>34</td><td>2024-01-03 00:00:00</td><td>&quot;Z&quot;</td><td>0.34</td></tr></tbody></table></div>"
      ],
      "text/plain": [
       "shape: (3, 4)\n",
       "┌─────────┬─────────────────────┬──────────┬────────────────┐\n",
       "│ payment ┆ time                ┆ customer ┆ payment_dollar │\n",
       "│ ---     ┆ ---                 ┆ ---      ┆ ---            │\n",
       "│ i64     ┆ datetime[μs]        ┆ str      ┆ f64            │\n",
       "╞═════════╪═════════════════════╪══════════╪════════════════╡\n",
       "│ 23      ┆ 2024-01-01 00:00:00 ┆ X        ┆ 0.23           │\n",
       "│ 12      ┆ 2024-01-02 00:00:00 ┆ Y        ┆ 0.12           │\n",
       "│ 34      ┆ 2024-01-03 00:00:00 ┆ Z        ┆ 0.34           │\n",
       "└─────────┴─────────────────────┴──────────┴────────────────┘"
      ]
     },
     "execution_count": 9,
     "metadata": {},
     "output_type": "execute_result"
    }
   ],
   "source": [
    "df.with_columns((pl.col(\"payment\")/100).alias(\"payment_dollar\"))"
   ]
  },
  {
   "cell_type": "code",
   "execution_count": 10,
   "id": "795a2bda-97af-43bd-bf23-3de978b58eaa",
   "metadata": {
    "execution": {
     "iopub.execute_input": "2024-09-02T15:38:44.764639Z",
     "iopub.status.busy": "2024-09-02T15:38:44.763656Z",
     "iopub.status.idle": "2024-09-02T15:38:44.773123Z",
     "shell.execute_reply": "2024-09-02T15:38:44.771106Z",
     "shell.execute_reply.started": "2024-09-02T15:38:44.764639Z"
    }
   },
   "outputs": [],
   "source": [
    "df2 = pl.DataFrame({\"A\": [1,2,3,7,8,9], \"B\": [\"x\", \"x\", \"y\", \"z\", \"z\", \"z\"]})"
   ]
  },
  {
   "cell_type": "code",
   "execution_count": 11,
   "id": "8dce89fa-12ee-41c9-8dbc-45946bb0c974",
   "metadata": {
    "execution": {
     "iopub.execute_input": "2024-09-02T15:38:45.006896Z",
     "iopub.status.busy": "2024-09-02T15:38:45.004872Z",
     "iopub.status.idle": "2024-09-02T15:38:45.019769Z",
     "shell.execute_reply": "2024-09-02T15:38:45.018748Z",
     "shell.execute_reply.started": "2024-09-02T15:38:45.006896Z"
    }
   },
   "outputs": [
    {
     "data": {
      "text/html": [
       "<div><style>\n",
       ".dataframe > thead > tr,\n",
       ".dataframe > tbody > tr {\n",
       "  text-align: right;\n",
       "  white-space: pre-wrap;\n",
       "}\n",
       "</style>\n",
       "<small>shape: (6, 2)</small><table border=\"1\" class=\"dataframe\"><thead><tr><th>A</th><th>B</th></tr><tr><td>i64</td><td>str</td></tr></thead><tbody><tr><td>1</td><td>&quot;x&quot;</td></tr><tr><td>2</td><td>&quot;x&quot;</td></tr><tr><td>3</td><td>&quot;y&quot;</td></tr><tr><td>7</td><td>&quot;z&quot;</td></tr><tr><td>8</td><td>&quot;z&quot;</td></tr><tr><td>9</td><td>&quot;z&quot;</td></tr></tbody></table></div>"
      ],
      "text/plain": [
       "shape: (6, 2)\n",
       "┌─────┬─────┐\n",
       "│ A   ┆ B   │\n",
       "│ --- ┆ --- │\n",
       "│ i64 ┆ str │\n",
       "╞═════╪═════╡\n",
       "│ 1   ┆ x   │\n",
       "│ 2   ┆ x   │\n",
       "│ 3   ┆ y   │\n",
       "│ 7   ┆ z   │\n",
       "│ 8   ┆ z   │\n",
       "│ 9   ┆ z   │\n",
       "└─────┴─────┘"
      ]
     },
     "execution_count": 11,
     "metadata": {},
     "output_type": "execute_result"
    }
   ],
   "source": [
    "df2"
   ]
  },
  {
   "cell_type": "code",
   "execution_count": 12,
   "id": "021d9f35-43af-4c7f-9d2b-60e8a88b1658",
   "metadata": {
    "execution": {
     "iopub.execute_input": "2024-09-02T15:38:45.250209Z",
     "iopub.status.busy": "2024-09-02T15:38:45.249209Z",
     "iopub.status.idle": "2024-09-02T15:38:45.264152Z",
     "shell.execute_reply": "2024-09-02T15:38:45.263107Z",
     "shell.execute_reply.started": "2024-09-02T15:38:45.250209Z"
    }
   },
   "outputs": [
    {
     "data": {
      "text/html": [
       "<div><style>\n",
       ".dataframe > thead > tr,\n",
       ".dataframe > tbody > tr {\n",
       "  text-align: right;\n",
       "  white-space: pre-wrap;\n",
       "}\n",
       "</style>\n",
       "<small>shape: (3, 2)</small><table border=\"1\" class=\"dataframe\"><thead><tr><th>B</th><th>len</th></tr><tr><td>str</td><td>u32</td></tr></thead><tbody><tr><td>&quot;x&quot;</td><td>2</td></tr><tr><td>&quot;y&quot;</td><td>1</td></tr><tr><td>&quot;z&quot;</td><td>3</td></tr></tbody></table></div>"
      ],
      "text/plain": [
       "shape: (3, 2)\n",
       "┌─────┬─────┐\n",
       "│ B   ┆ len │\n",
       "│ --- ┆ --- │\n",
       "│ str ┆ u32 │\n",
       "╞═════╪═════╡\n",
       "│ x   ┆ 2   │\n",
       "│ y   ┆ 1   │\n",
       "│ z   ┆ 3   │\n",
       "└─────┴─────┘"
      ]
     },
     "execution_count": 12,
     "metadata": {},
     "output_type": "execute_result"
    }
   ],
   "source": [
    "df2.group_by(\"B\", maintain_order=True).len()"
   ]
  },
  {
   "cell_type": "code",
   "execution_count": 13,
   "id": "7d5de860-089d-4618-bd96-051f6ccacb7b",
   "metadata": {
    "execution": {
     "iopub.execute_input": "2024-09-02T15:38:45.502643Z",
     "iopub.status.busy": "2024-09-02T15:38:45.501645Z",
     "iopub.status.idle": "2024-09-02T15:38:45.515691Z",
     "shell.execute_reply": "2024-09-02T15:38:45.514666Z",
     "shell.execute_reply.started": "2024-09-02T15:38:45.502643Z"
    }
   },
   "outputs": [
    {
     "data": {
      "text/html": [
       "<div><style>\n",
       ".dataframe > thead > tr,\n",
       ".dataframe > tbody > tr {\n",
       "  text-align: right;\n",
       "  white-space: pre-wrap;\n",
       "}\n",
       "</style>\n",
       "<small>shape: (3, 2)</small><table border=\"1\" class=\"dataframe\"><thead><tr><th>B</th><th>count</th></tr><tr><td>str</td><td>u32</td></tr></thead><tbody><tr><td>&quot;x&quot;</td><td>2</td></tr><tr><td>&quot;y&quot;</td><td>1</td></tr><tr><td>&quot;z&quot;</td><td>3</td></tr></tbody></table></div>"
      ],
      "text/plain": [
       "shape: (3, 2)\n",
       "┌─────┬───────┐\n",
       "│ B   ┆ count │\n",
       "│ --- ┆ ---   │\n",
       "│ str ┆ u32   │\n",
       "╞═════╪═══════╡\n",
       "│ x   ┆ 2     │\n",
       "│ y   ┆ 1     │\n",
       "│ z   ┆ 3     │\n",
       "└─────┴───────┘"
      ]
     },
     "execution_count": 13,
     "metadata": {},
     "output_type": "execute_result"
    }
   ],
   "source": [
    "df2.group_by(\"B\", maintain_order=True).agg(pl.col(\"*\").count().alias(\"count\"))"
   ]
  },
  {
   "cell_type": "code",
   "execution_count": null,
   "id": "01458e06-8543-42cc-ac27-ed8a92c5b4bc",
   "metadata": {},
   "outputs": [],
   "source": []
  }
 ],
 "metadata": {
  "kernelspec": {
   "display_name": "Python 3 (ipykernel)",
   "language": "python",
   "name": "python3"
  },
  "language_info": {
   "codemirror_mode": {
    "name": "ipython",
    "version": 3
   },
   "file_extension": ".py",
   "mimetype": "text/x-python",
   "name": "python",
   "nbconvert_exporter": "python",
   "pygments_lexer": "ipython3",
   "version": "3.12.5"
  }
 },
 "nbformat": 4,
 "nbformat_minor": 5
}
