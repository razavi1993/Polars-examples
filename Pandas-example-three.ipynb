{
 "cells": [
  {
   "cell_type": "code",
   "execution_count": 1,
   "id": "4bc61a5c-7673-4c1c-af22-47fada9a1c22",
   "metadata": {
    "execution": {
     "iopub.execute_input": "2024-09-02T15:42:22.146490Z",
     "iopub.status.busy": "2024-09-02T15:42:22.145470Z",
     "iopub.status.idle": "2024-09-02T15:42:22.347834Z",
     "shell.execute_reply": "2024-09-02T15:42:22.346824Z",
     "shell.execute_reply.started": "2024-09-02T15:42:22.146490Z"
    }
   },
   "outputs": [],
   "source": [
    "import numpy as np"
   ]
  },
  {
   "cell_type": "code",
   "execution_count": 2,
   "id": "d2220eef-4566-4869-8e36-54beca89b5fa",
   "metadata": {
    "execution": {
     "iopub.execute_input": "2024-09-02T15:42:27.154867Z",
     "iopub.status.busy": "2024-09-02T15:42:27.154867Z",
     "iopub.status.idle": "2024-09-02T15:42:27.464014Z",
     "shell.execute_reply": "2024-09-02T15:42:27.462972Z",
     "shell.execute_reply.started": "2024-09-02T15:42:27.154867Z"
    }
   },
   "outputs": [],
   "source": [
    "import polars as pl"
   ]
  },
  {
   "cell_type": "code",
   "execution_count": 9,
   "id": "2e61f2bd-cf6b-49d2-84ff-77d838f7c132",
   "metadata": {
    "execution": {
     "iopub.execute_input": "2024-09-02T15:44:59.673338Z",
     "iopub.status.busy": "2024-09-02T15:44:59.672344Z",
     "iopub.status.idle": "2024-09-02T15:44:59.692264Z",
     "shell.execute_reply": "2024-09-02T15:44:59.691255Z",
     "shell.execute_reply.started": "2024-09-02T15:44:59.673338Z"
    }
   },
   "outputs": [],
   "source": [
    "df = pl.DataFrame({\n",
    "                    \"A\": range(10),\n",
    "                    \"B\": np.random.normal(10, 5, 10),\n",
    "                    \"C\": [1.0, np.nan, np.nan, None, 2.0, 3.5, 4.5, 7.8, 1.3, 10.0]})"
   ]
  },
  {
   "cell_type": "code",
   "execution_count": 10,
   "id": "31ab30db-89d8-435d-b89d-e807172529bd",
   "metadata": {
    "execution": {
     "iopub.execute_input": "2024-09-02T15:44:59.934482Z",
     "iopub.status.busy": "2024-09-02T15:44:59.933474Z",
     "iopub.status.idle": "2024-09-02T15:44:59.951956Z",
     "shell.execute_reply": "2024-09-02T15:44:59.949933Z",
     "shell.execute_reply.started": "2024-09-02T15:44:59.934482Z"
    }
   },
   "outputs": [
    {
     "data": {
      "text/html": [
       "<div><style>\n",
       ".dataframe > thead > tr,\n",
       ".dataframe > tbody > tr {\n",
       "  text-align: right;\n",
       "  white-space: pre-wrap;\n",
       "}\n",
       "</style>\n",
       "<small>shape: (10, 3)</small><table border=\"1\" class=\"dataframe\"><thead><tr><th>A</th><th>B</th><th>C</th></tr><tr><td>i64</td><td>f64</td><td>f64</td></tr></thead><tbody><tr><td>0</td><td>12.455418</td><td>1.0</td></tr><tr><td>1</td><td>17.058353</td><td>NaN</td></tr><tr><td>2</td><td>9.707025</td><td>NaN</td></tr><tr><td>3</td><td>10.059447</td><td>null</td></tr><tr><td>4</td><td>9.965948</td><td>2.0</td></tr><tr><td>5</td><td>16.920077</td><td>3.5</td></tr><tr><td>6</td><td>10.423184</td><td>4.5</td></tr><tr><td>7</td><td>10.869653</td><td>7.8</td></tr><tr><td>8</td><td>12.680929</td><td>1.3</td></tr><tr><td>9</td><td>12.331969</td><td>10.0</td></tr></tbody></table></div>"
      ],
      "text/plain": [
       "shape: (10, 3)\n",
       "┌─────┬───────────┬──────┐\n",
       "│ A   ┆ B         ┆ C    │\n",
       "│ --- ┆ ---       ┆ ---  │\n",
       "│ i64 ┆ f64       ┆ f64  │\n",
       "╞═════╪═══════════╪══════╡\n",
       "│ 0   ┆ 12.455418 ┆ 1.0  │\n",
       "│ 1   ┆ 17.058353 ┆ NaN  │\n",
       "│ 2   ┆ 9.707025  ┆ NaN  │\n",
       "│ 3   ┆ 10.059447 ┆ null │\n",
       "│ 4   ┆ 9.965948  ┆ 2.0  │\n",
       "│ 5   ┆ 16.920077 ┆ 3.5  │\n",
       "│ 6   ┆ 10.423184 ┆ 4.5  │\n",
       "│ 7   ┆ 10.869653 ┆ 7.8  │\n",
       "│ 8   ┆ 12.680929 ┆ 1.3  │\n",
       "│ 9   ┆ 12.331969 ┆ 10.0 │\n",
       "└─────┴───────────┴──────┘"
      ]
     },
     "execution_count": 10,
     "metadata": {},
     "output_type": "execute_result"
    }
   ],
   "source": [
    "df"
   ]
  },
  {
   "cell_type": "code",
   "execution_count": 11,
   "id": "2ef9a146-ea68-4e39-9353-645a9d7d5075",
   "metadata": {
    "execution": {
     "iopub.execute_input": "2024-09-02T15:52:13.521594Z",
     "iopub.status.busy": "2024-09-02T15:52:13.520594Z",
     "iopub.status.idle": "2024-09-02T15:52:13.528995Z",
     "shell.execute_reply": "2024-09-02T15:52:13.527981Z",
     "shell.execute_reply.started": "2024-09-02T15:52:13.521594Z"
    }
   },
   "outputs": [],
   "source": [
    "df2 = pl.DataFrame({\n",
    "                    \"X\": range(10),\n",
    "                    \"Y\": [\"a\", \"a\", \"a\", \"b\", \"b\", \"c\", \"c\", \"c\", \"c\", \"d\"]})"
   ]
  },
  {
   "cell_type": "code",
   "execution_count": 12,
   "id": "70e542c7-3579-4bbe-9cdc-517dd3caedb5",
   "metadata": {
    "execution": {
     "iopub.execute_input": "2024-09-02T15:52:15.707669Z",
     "iopub.status.busy": "2024-09-02T15:52:15.705669Z",
     "iopub.status.idle": "2024-09-02T15:52:15.721865Z",
     "shell.execute_reply": "2024-09-02T15:52:15.720850Z",
     "shell.execute_reply.started": "2024-09-02T15:52:15.707669Z"
    }
   },
   "outputs": [
    {
     "data": {
      "text/html": [
       "<div><style>\n",
       ".dataframe > thead > tr,\n",
       ".dataframe > tbody > tr {\n",
       "  text-align: right;\n",
       "  white-space: pre-wrap;\n",
       "}\n",
       "</style>\n",
       "<small>shape: (10, 2)</small><table border=\"1\" class=\"dataframe\"><thead><tr><th>X</th><th>Y</th></tr><tr><td>i64</td><td>str</td></tr></thead><tbody><tr><td>0</td><td>&quot;a&quot;</td></tr><tr><td>1</td><td>&quot;a&quot;</td></tr><tr><td>2</td><td>&quot;a&quot;</td></tr><tr><td>3</td><td>&quot;b&quot;</td></tr><tr><td>4</td><td>&quot;b&quot;</td></tr><tr><td>5</td><td>&quot;c&quot;</td></tr><tr><td>6</td><td>&quot;c&quot;</td></tr><tr><td>7</td><td>&quot;c&quot;</td></tr><tr><td>8</td><td>&quot;c&quot;</td></tr><tr><td>9</td><td>&quot;d&quot;</td></tr></tbody></table></div>"
      ],
      "text/plain": [
       "shape: (10, 2)\n",
       "┌─────┬─────┐\n",
       "│ X   ┆ Y   │\n",
       "│ --- ┆ --- │\n",
       "│ i64 ┆ str │\n",
       "╞═════╪═════╡\n",
       "│ 0   ┆ a   │\n",
       "│ 1   ┆ a   │\n",
       "│ 2   ┆ a   │\n",
       "│ 3   ┆ b   │\n",
       "│ 4   ┆ b   │\n",
       "│ 5   ┆ c   │\n",
       "│ 6   ┆ c   │\n",
       "│ 7   ┆ c   │\n",
       "│ 8   ┆ c   │\n",
       "│ 9   ┆ d   │\n",
       "└─────┴─────┘"
      ]
     },
     "execution_count": 12,
     "metadata": {},
     "output_type": "execute_result"
    }
   ],
   "source": [
    "df2"
   ]
  },
  {
   "cell_type": "code",
   "execution_count": 13,
   "id": "b5f804bb-4187-4901-a3f8-18c3a2980f35",
   "metadata": {
    "execution": {
     "iopub.execute_input": "2024-09-02T15:53:02.274784Z",
     "iopub.status.busy": "2024-09-02T15:53:02.273782Z",
     "iopub.status.idle": "2024-09-02T15:53:02.283228Z",
     "shell.execute_reply": "2024-09-02T15:53:02.282206Z",
     "shell.execute_reply.started": "2024-09-02T15:53:02.273782Z"
    }
   },
   "outputs": [],
   "source": [
    "df_joined = df.join(df2, left_on=\"A\", right_on=\"X\")"
   ]
  },
  {
   "cell_type": "code",
   "execution_count": 14,
   "id": "8248c87c-f38c-47a1-9b9a-c7c7c828fcaa",
   "metadata": {
    "execution": {
     "iopub.execute_input": "2024-09-02T15:53:05.994108Z",
     "iopub.status.busy": "2024-09-02T15:53:05.994108Z",
     "iopub.status.idle": "2024-09-02T15:53:06.014576Z",
     "shell.execute_reply": "2024-09-02T15:53:06.013562Z",
     "shell.execute_reply.started": "2024-09-02T15:53:05.994108Z"
    }
   },
   "outputs": [
    {
     "data": {
      "text/html": [
       "<div><style>\n",
       ".dataframe > thead > tr,\n",
       ".dataframe > tbody > tr {\n",
       "  text-align: right;\n",
       "  white-space: pre-wrap;\n",
       "}\n",
       "</style>\n",
       "<small>shape: (10, 4)</small><table border=\"1\" class=\"dataframe\"><thead><tr><th>A</th><th>B</th><th>C</th><th>Y</th></tr><tr><td>i64</td><td>f64</td><td>f64</td><td>str</td></tr></thead><tbody><tr><td>0</td><td>12.455418</td><td>1.0</td><td>&quot;a&quot;</td></tr><tr><td>1</td><td>17.058353</td><td>NaN</td><td>&quot;a&quot;</td></tr><tr><td>2</td><td>9.707025</td><td>NaN</td><td>&quot;a&quot;</td></tr><tr><td>3</td><td>10.059447</td><td>null</td><td>&quot;b&quot;</td></tr><tr><td>4</td><td>9.965948</td><td>2.0</td><td>&quot;b&quot;</td></tr><tr><td>5</td><td>16.920077</td><td>3.5</td><td>&quot;c&quot;</td></tr><tr><td>6</td><td>10.423184</td><td>4.5</td><td>&quot;c&quot;</td></tr><tr><td>7</td><td>10.869653</td><td>7.8</td><td>&quot;c&quot;</td></tr><tr><td>8</td><td>12.680929</td><td>1.3</td><td>&quot;c&quot;</td></tr><tr><td>9</td><td>12.331969</td><td>10.0</td><td>&quot;d&quot;</td></tr></tbody></table></div>"
      ],
      "text/plain": [
       "shape: (10, 4)\n",
       "┌─────┬───────────┬──────┬─────┐\n",
       "│ A   ┆ B         ┆ C    ┆ Y   │\n",
       "│ --- ┆ ---       ┆ ---  ┆ --- │\n",
       "│ i64 ┆ f64       ┆ f64  ┆ str │\n",
       "╞═════╪═══════════╪══════╪═════╡\n",
       "│ 0   ┆ 12.455418 ┆ 1.0  ┆ a   │\n",
       "│ 1   ┆ 17.058353 ┆ NaN  ┆ a   │\n",
       "│ 2   ┆ 9.707025  ┆ NaN  ┆ a   │\n",
       "│ 3   ┆ 10.059447 ┆ null ┆ b   │\n",
       "│ 4   ┆ 9.965948  ┆ 2.0  ┆ b   │\n",
       "│ 5   ┆ 16.920077 ┆ 3.5  ┆ c   │\n",
       "│ 6   ┆ 10.423184 ┆ 4.5  ┆ c   │\n",
       "│ 7   ┆ 10.869653 ┆ 7.8  ┆ c   │\n",
       "│ 8   ┆ 12.680929 ┆ 1.3  ┆ c   │\n",
       "│ 9   ┆ 12.331969 ┆ 10.0 ┆ d   │\n",
       "└─────┴───────────┴──────┴─────┘"
      ]
     },
     "execution_count": 14,
     "metadata": {},
     "output_type": "execute_result"
    }
   ],
   "source": [
    "df_joined"
   ]
  },
  {
   "cell_type": "code",
   "execution_count": 15,
   "id": "106fd7c2-1470-44c8-b805-fb7810557428",
   "metadata": {
    "execution": {
     "iopub.execute_input": "2024-09-02T15:53:45.447999Z",
     "iopub.status.busy": "2024-09-02T15:53:45.447999Z",
     "iopub.status.idle": "2024-09-02T15:53:45.455207Z",
     "shell.execute_reply": "2024-09-02T15:53:45.454181Z",
     "shell.execute_reply.started": "2024-09-02T15:53:45.447999Z"
    }
   },
   "outputs": [],
   "source": [
    "df_stacked = df.hstack(df2)"
   ]
  },
  {
   "cell_type": "code",
   "execution_count": 16,
   "id": "4e7c76f9-3fc2-471d-8522-19c15a50d549",
   "metadata": {
    "execution": {
     "iopub.execute_input": "2024-09-02T15:53:49.026637Z",
     "iopub.status.busy": "2024-09-02T15:53:49.025639Z",
     "iopub.status.idle": "2024-09-02T15:53:49.048151Z",
     "shell.execute_reply": "2024-09-02T15:53:49.046108Z",
     "shell.execute_reply.started": "2024-09-02T15:53:49.025639Z"
    }
   },
   "outputs": [
    {
     "data": {
      "text/html": [
       "<div><style>\n",
       ".dataframe > thead > tr,\n",
       ".dataframe > tbody > tr {\n",
       "  text-align: right;\n",
       "  white-space: pre-wrap;\n",
       "}\n",
       "</style>\n",
       "<small>shape: (10, 5)</small><table border=\"1\" class=\"dataframe\"><thead><tr><th>A</th><th>B</th><th>C</th><th>X</th><th>Y</th></tr><tr><td>i64</td><td>f64</td><td>f64</td><td>i64</td><td>str</td></tr></thead><tbody><tr><td>0</td><td>12.455418</td><td>1.0</td><td>0</td><td>&quot;a&quot;</td></tr><tr><td>1</td><td>17.058353</td><td>NaN</td><td>1</td><td>&quot;a&quot;</td></tr><tr><td>2</td><td>9.707025</td><td>NaN</td><td>2</td><td>&quot;a&quot;</td></tr><tr><td>3</td><td>10.059447</td><td>null</td><td>3</td><td>&quot;b&quot;</td></tr><tr><td>4</td><td>9.965948</td><td>2.0</td><td>4</td><td>&quot;b&quot;</td></tr><tr><td>5</td><td>16.920077</td><td>3.5</td><td>5</td><td>&quot;c&quot;</td></tr><tr><td>6</td><td>10.423184</td><td>4.5</td><td>6</td><td>&quot;c&quot;</td></tr><tr><td>7</td><td>10.869653</td><td>7.8</td><td>7</td><td>&quot;c&quot;</td></tr><tr><td>8</td><td>12.680929</td><td>1.3</td><td>8</td><td>&quot;c&quot;</td></tr><tr><td>9</td><td>12.331969</td><td>10.0</td><td>9</td><td>&quot;d&quot;</td></tr></tbody></table></div>"
      ],
      "text/plain": [
       "shape: (10, 5)\n",
       "┌─────┬───────────┬──────┬─────┬─────┐\n",
       "│ A   ┆ B         ┆ C    ┆ X   ┆ Y   │\n",
       "│ --- ┆ ---       ┆ ---  ┆ --- ┆ --- │\n",
       "│ i64 ┆ f64       ┆ f64  ┆ i64 ┆ str │\n",
       "╞═════╪═══════════╪══════╪═════╪═════╡\n",
       "│ 0   ┆ 12.455418 ┆ 1.0  ┆ 0   ┆ a   │\n",
       "│ 1   ┆ 17.058353 ┆ NaN  ┆ 1   ┆ a   │\n",
       "│ 2   ┆ 9.707025  ┆ NaN  ┆ 2   ┆ a   │\n",
       "│ 3   ┆ 10.059447 ┆ null ┆ 3   ┆ b   │\n",
       "│ 4   ┆ 9.965948  ┆ 2.0  ┆ 4   ┆ b   │\n",
       "│ 5   ┆ 16.920077 ┆ 3.5  ┆ 5   ┆ c   │\n",
       "│ 6   ┆ 10.423184 ┆ 4.5  ┆ 6   ┆ c   │\n",
       "│ 7   ┆ 10.869653 ┆ 7.8  ┆ 7   ┆ c   │\n",
       "│ 8   ┆ 12.680929 ┆ 1.3  ┆ 8   ┆ c   │\n",
       "│ 9   ┆ 12.331969 ┆ 10.0 ┆ 9   ┆ d   │\n",
       "└─────┴───────────┴──────┴─────┴─────┘"
      ]
     },
     "execution_count": 16,
     "metadata": {},
     "output_type": "execute_result"
    }
   ],
   "source": [
    "df_stacked"
   ]
  },
  {
   "cell_type": "code",
   "execution_count": null,
   "id": "6588fb9b-b16b-4887-b5bb-4eef882c6495",
   "metadata": {},
   "outputs": [],
   "source": []
  }
 ],
 "metadata": {
  "kernelspec": {
   "display_name": "Python 3 (ipykernel)",
   "language": "python",
   "name": "python3"
  },
  "language_info": {
   "codemirror_mode": {
    "name": "ipython",
    "version": 3
   },
   "file_extension": ".py",
   "mimetype": "text/x-python",
   "name": "python",
   "nbconvert_exporter": "python",
   "pygments_lexer": "ipython3",
   "version": "3.12.5"
  }
 },
 "nbformat": 4,
 "nbformat_minor": 5
}
