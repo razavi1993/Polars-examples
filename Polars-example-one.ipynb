{
 "cells": [
  {
   "cell_type": "code",
   "execution_count": 1,
   "id": "d033498d-ae21-4324-bec2-679edb539c0d",
   "metadata": {
    "execution": {
     "iopub.execute_input": "2024-09-02T15:03:01.966072Z",
     "iopub.status.busy": "2024-09-02T15:03:01.965056Z",
     "iopub.status.idle": "2024-09-02T15:03:03.450842Z",
     "shell.execute_reply": "2024-09-02T15:03:03.448766Z",
     "shell.execute_reply.started": "2024-09-02T15:03:01.966072Z"
    }
   },
   "outputs": [],
   "source": [
    "import numpy as np"
   ]
  },
  {
   "cell_type": "code",
   "execution_count": 2,
   "id": "0ad0ec64-2ffd-405a-87e1-a1f9f65544ae",
   "metadata": {
    "execution": {
     "iopub.execute_input": "2024-09-02T15:03:07.102098Z",
     "iopub.status.busy": "2024-09-02T15:03:07.101105Z",
     "iopub.status.idle": "2024-09-02T15:03:07.763201Z",
     "shell.execute_reply": "2024-09-02T15:03:07.762158Z",
     "shell.execute_reply.started": "2024-09-02T15:03:07.102098Z"
    }
   },
   "outputs": [],
   "source": [
    "import polars as pl"
   ]
  },
  {
   "cell_type": "code",
   "execution_count": 3,
   "id": "7f1e4d0e-f016-4763-abf3-ba0ca72d155a",
   "metadata": {
    "execution": {
     "iopub.execute_input": "2024-09-02T15:03:44.776333Z",
     "iopub.status.busy": "2024-09-02T15:03:44.776333Z",
     "iopub.status.idle": "2024-09-02T15:03:44.784680Z",
     "shell.execute_reply": "2024-09-02T15:03:44.783650Z",
     "shell.execute_reply.started": "2024-09-02T15:03:44.776333Z"
    }
   },
   "outputs": [],
   "source": [
    "data = pl.DataFrame({\"A\": [1,2,3,4,5], \"B\" : [4,5,6,7,8]})"
   ]
  },
  {
   "cell_type": "code",
   "execution_count": 4,
   "id": "6bb9d991-8ae1-4030-8118-31b45d98c948",
   "metadata": {
    "execution": {
     "iopub.execute_input": "2024-09-02T15:03:47.426926Z",
     "iopub.status.busy": "2024-09-02T15:03:47.425928Z",
     "iopub.status.idle": "2024-09-02T15:03:47.445681Z",
     "shell.execute_reply": "2024-09-02T15:03:47.444665Z",
     "shell.execute_reply.started": "2024-09-02T15:03:47.426926Z"
    }
   },
   "outputs": [
    {
     "data": {
      "text/html": [
       "<div><style>\n",
       ".dataframe > thead > tr,\n",
       ".dataframe > tbody > tr {\n",
       "  text-align: right;\n",
       "  white-space: pre-wrap;\n",
       "}\n",
       "</style>\n",
       "<small>shape: (5, 2)</small><table border=\"1\" class=\"dataframe\"><thead><tr><th>A</th><th>B</th></tr><tr><td>i64</td><td>i64</td></tr></thead><tbody><tr><td>1</td><td>4</td></tr><tr><td>2</td><td>5</td></tr><tr><td>3</td><td>6</td></tr><tr><td>4</td><td>7</td></tr><tr><td>5</td><td>8</td></tr></tbody></table></div>"
      ],
      "text/plain": [
       "shape: (5, 2)\n",
       "┌─────┬─────┐\n",
       "│ A   ┆ B   │\n",
       "│ --- ┆ --- │\n",
       "│ i64 ┆ i64 │\n",
       "╞═════╪═════╡\n",
       "│ 1   ┆ 4   │\n",
       "│ 2   ┆ 5   │\n",
       "│ 3   ┆ 6   │\n",
       "│ 4   ┆ 7   │\n",
       "│ 5   ┆ 8   │\n",
       "└─────┴─────┘"
      ]
     },
     "execution_count": 4,
     "metadata": {},
     "output_type": "execute_result"
    }
   ],
   "source": [
    "data"
   ]
  },
  {
   "cell_type": "code",
   "execution_count": 6,
   "id": "70e7649d-291c-405a-adc5-02843ef7677b",
   "metadata": {
    "execution": {
     "iopub.execute_input": "2024-09-02T15:04:10.727388Z",
     "iopub.status.busy": "2024-09-02T15:04:10.726415Z",
     "iopub.status.idle": "2024-09-02T15:04:10.737421Z",
     "shell.execute_reply": "2024-09-02T15:04:10.736381Z",
     "shell.execute_reply.started": "2024-09-02T15:04:10.727388Z"
    }
   },
   "outputs": [],
   "source": [
    "data.write_csv(\"data.csv\")"
   ]
  },
  {
   "cell_type": "code",
   "execution_count": 8,
   "id": "e95a91d2-114a-4158-901d-d7a561743bc6",
   "metadata": {
    "execution": {
     "iopub.execute_input": "2024-09-02T15:04:56.128546Z",
     "iopub.status.busy": "2024-09-02T15:04:56.127545Z",
     "iopub.status.idle": "2024-09-02T15:04:56.136325Z",
     "shell.execute_reply": "2024-09-02T15:04:56.135304Z",
     "shell.execute_reply.started": "2024-09-02T15:04:56.128546Z"
    }
   },
   "outputs": [],
   "source": [
    "data.write_ndjson(\"data.json\")"
   ]
  },
  {
   "cell_type": "code",
   "execution_count": 9,
   "id": "4ac12e63-50a1-4b24-986c-51b0a808f55d",
   "metadata": {
    "execution": {
     "iopub.execute_input": "2024-09-02T15:05:26.857325Z",
     "iopub.status.busy": "2024-09-02T15:05:26.856326Z",
     "iopub.status.idle": "2024-09-02T15:05:26.873661Z",
     "shell.execute_reply": "2024-09-02T15:05:26.872620Z",
     "shell.execute_reply.started": "2024-09-02T15:05:26.857325Z"
    }
   },
   "outputs": [],
   "source": [
    "data.write_parquet(\"data.parquet\")"
   ]
  },
  {
   "cell_type": "code",
   "execution_count": 10,
   "id": "6ffb4895-3f1a-4e40-b139-a54461289eab",
   "metadata": {
    "execution": {
     "iopub.execute_input": "2024-09-02T15:05:56.201676Z",
     "iopub.status.busy": "2024-09-02T15:05:56.200674Z",
     "iopub.status.idle": "2024-09-02T15:05:56.332015Z",
     "shell.execute_reply": "2024-09-02T15:05:56.330976Z",
     "shell.execute_reply.started": "2024-09-02T15:05:56.201676Z"
    }
   },
   "outputs": [],
   "source": [
    "data_csv = pl.read_csv(\"data.csv\")"
   ]
  },
  {
   "cell_type": "code",
   "execution_count": 11,
   "id": "29c33c2d-66ee-443a-98a1-08a66dc9faa2",
   "metadata": {
    "execution": {
     "iopub.execute_input": "2024-09-02T15:05:59.689977Z",
     "iopub.status.busy": "2024-09-02T15:05:59.688969Z",
     "iopub.status.idle": "2024-09-02T15:05:59.703577Z",
     "shell.execute_reply": "2024-09-02T15:05:59.702556Z",
     "shell.execute_reply.started": "2024-09-02T15:05:59.689977Z"
    }
   },
   "outputs": [
    {
     "data": {
      "text/html": [
       "<div><style>\n",
       ".dataframe > thead > tr,\n",
       ".dataframe > tbody > tr {\n",
       "  text-align: right;\n",
       "  white-space: pre-wrap;\n",
       "}\n",
       "</style>\n",
       "<small>shape: (5, 2)</small><table border=\"1\" class=\"dataframe\"><thead><tr><th>A</th><th>B</th></tr><tr><td>i64</td><td>i64</td></tr></thead><tbody><tr><td>1</td><td>4</td></tr><tr><td>2</td><td>5</td></tr><tr><td>3</td><td>6</td></tr><tr><td>4</td><td>7</td></tr><tr><td>5</td><td>8</td></tr></tbody></table></div>"
      ],
      "text/plain": [
       "shape: (5, 2)\n",
       "┌─────┬─────┐\n",
       "│ A   ┆ B   │\n",
       "│ --- ┆ --- │\n",
       "│ i64 ┆ i64 │\n",
       "╞═════╪═════╡\n",
       "│ 1   ┆ 4   │\n",
       "│ 2   ┆ 5   │\n",
       "│ 3   ┆ 6   │\n",
       "│ 4   ┆ 7   │\n",
       "│ 5   ┆ 8   │\n",
       "└─────┴─────┘"
      ]
     },
     "execution_count": 11,
     "metadata": {},
     "output_type": "execute_result"
    }
   ],
   "source": [
    "data_csv"
   ]
  },
  {
   "cell_type": "code",
   "execution_count": 13,
   "id": "a66712bf-f6e8-4714-ba40-fbc7f3fd19ef",
   "metadata": {
    "execution": {
     "iopub.execute_input": "2024-09-02T15:06:34.617993Z",
     "iopub.status.busy": "2024-09-02T15:06:34.616993Z",
     "iopub.status.idle": "2024-09-02T15:06:34.626880Z",
     "shell.execute_reply": "2024-09-02T15:06:34.625854Z",
     "shell.execute_reply.started": "2024-09-02T15:06:34.617993Z"
    }
   },
   "outputs": [],
   "source": [
    "data_json = pl.read_ndjson(\"data.json\")"
   ]
  },
  {
   "cell_type": "code",
   "execution_count": 15,
   "id": "f4301ef7-71bb-445a-a550-f406bb8fec8a",
   "metadata": {
    "execution": {
     "iopub.execute_input": "2024-09-02T15:06:43.391555Z",
     "iopub.status.busy": "2024-09-02T15:06:43.390557Z",
     "iopub.status.idle": "2024-09-02T15:06:43.404291Z",
     "shell.execute_reply": "2024-09-02T15:06:43.403275Z",
     "shell.execute_reply.started": "2024-09-02T15:06:43.391555Z"
    }
   },
   "outputs": [
    {
     "data": {
      "text/html": [
       "<div><style>\n",
       ".dataframe > thead > tr,\n",
       ".dataframe > tbody > tr {\n",
       "  text-align: right;\n",
       "  white-space: pre-wrap;\n",
       "}\n",
       "</style>\n",
       "<small>shape: (5, 2)</small><table border=\"1\" class=\"dataframe\"><thead><tr><th>A</th><th>B</th></tr><tr><td>i64</td><td>i64</td></tr></thead><tbody><tr><td>1</td><td>4</td></tr><tr><td>2</td><td>5</td></tr><tr><td>3</td><td>6</td></tr><tr><td>4</td><td>7</td></tr><tr><td>5</td><td>8</td></tr></tbody></table></div>"
      ],
      "text/plain": [
       "shape: (5, 2)\n",
       "┌─────┬─────┐\n",
       "│ A   ┆ B   │\n",
       "│ --- ┆ --- │\n",
       "│ i64 ┆ i64 │\n",
       "╞═════╪═════╡\n",
       "│ 1   ┆ 4   │\n",
       "│ 2   ┆ 5   │\n",
       "│ 3   ┆ 6   │\n",
       "│ 4   ┆ 7   │\n",
       "│ 5   ┆ 8   │\n",
       "└─────┴─────┘"
      ]
     },
     "execution_count": 15,
     "metadata": {},
     "output_type": "execute_result"
    }
   ],
   "source": [
    "data_json"
   ]
  },
  {
   "cell_type": "code",
   "execution_count": 16,
   "id": "fc71eeff-8535-47bf-aa77-f800b6fa260b",
   "metadata": {
    "execution": {
     "iopub.execute_input": "2024-09-02T15:07:13.170119Z",
     "iopub.status.busy": "2024-09-02T15:07:13.169115Z",
     "iopub.status.idle": "2024-09-02T15:07:13.179796Z",
     "shell.execute_reply": "2024-09-02T15:07:13.178782Z",
     "shell.execute_reply.started": "2024-09-02T15:07:13.170119Z"
    }
   },
   "outputs": [],
   "source": [
    "data_parquet = pl.read_parquet(\"data.parquet\")"
   ]
  },
  {
   "cell_type": "code",
   "execution_count": 17,
   "id": "886ed2c4-467b-4d4a-b1d5-ccd1dbb09892",
   "metadata": {
    "execution": {
     "iopub.execute_input": "2024-09-02T15:07:18.046503Z",
     "iopub.status.busy": "2024-09-02T15:07:18.045501Z",
     "iopub.status.idle": "2024-09-02T15:07:18.059731Z",
     "shell.execute_reply": "2024-09-02T15:07:18.058707Z",
     "shell.execute_reply.started": "2024-09-02T15:07:18.046503Z"
    }
   },
   "outputs": [
    {
     "data": {
      "text/html": [
       "<div><style>\n",
       ".dataframe > thead > tr,\n",
       ".dataframe > tbody > tr {\n",
       "  text-align: right;\n",
       "  white-space: pre-wrap;\n",
       "}\n",
       "</style>\n",
       "<small>shape: (5, 2)</small><table border=\"1\" class=\"dataframe\"><thead><tr><th>A</th><th>B</th></tr><tr><td>i64</td><td>i64</td></tr></thead><tbody><tr><td>1</td><td>4</td></tr><tr><td>2</td><td>5</td></tr><tr><td>3</td><td>6</td></tr><tr><td>4</td><td>7</td></tr><tr><td>5</td><td>8</td></tr></tbody></table></div>"
      ],
      "text/plain": [
       "shape: (5, 2)\n",
       "┌─────┬─────┐\n",
       "│ A   ┆ B   │\n",
       "│ --- ┆ --- │\n",
       "│ i64 ┆ i64 │\n",
       "╞═════╪═════╡\n",
       "│ 1   ┆ 4   │\n",
       "│ 2   ┆ 5   │\n",
       "│ 3   ┆ 6   │\n",
       "│ 4   ┆ 7   │\n",
       "│ 5   ┆ 8   │\n",
       "└─────┴─────┘"
      ]
     },
     "execution_count": 17,
     "metadata": {},
     "output_type": "execute_result"
    }
   ],
   "source": [
    "data_parquet"
   ]
  },
  {
   "cell_type": "code",
   "execution_count": 27,
   "id": "94fe0c6b-9300-4582-abb5-8bf31720ab62",
   "metadata": {
    "execution": {
     "iopub.execute_input": "2024-09-02T15:09:38.467465Z",
     "iopub.status.busy": "2024-09-02T15:09:38.466466Z",
     "iopub.status.idle": "2024-09-02T15:09:38.476557Z",
     "shell.execute_reply": "2024-09-02T15:09:38.475545Z",
     "shell.execute_reply.started": "2024-09-02T15:09:38.467465Z"
    }
   },
   "outputs": [
    {
     "data": {
      "text/plain": [
       "Schema([('A', Int64), ('B', Int64)])"
      ]
     },
     "execution_count": 27,
     "metadata": {},
     "output_type": "execute_result"
    }
   ],
   "source": [
    "data_csv.schema"
   ]
  },
  {
   "cell_type": "code",
   "execution_count": 25,
   "id": "bc203702-2511-4bfc-b1d1-3f3d297290e8",
   "metadata": {
    "execution": {
     "iopub.execute_input": "2024-09-02T15:09:30.511384Z",
     "iopub.status.busy": "2024-09-02T15:09:30.510386Z",
     "iopub.status.idle": "2024-09-02T15:09:30.526204Z",
     "shell.execute_reply": "2024-09-02T15:09:30.525188Z",
     "shell.execute_reply.started": "2024-09-02T15:09:30.511384Z"
    }
   },
   "outputs": [
    {
     "data": {
      "text/html": [
       "<div><style>\n",
       ".dataframe > thead > tr,\n",
       ".dataframe > tbody > tr {\n",
       "  text-align: right;\n",
       "  white-space: pre-wrap;\n",
       "}\n",
       "</style>\n",
       "<small>shape: (5, 2)</small><table border=\"1\" class=\"dataframe\"><thead><tr><th>A</th><th>B</th></tr><tr><td>i64</td><td>i64</td></tr></thead><tbody><tr><td>1</td><td>4</td></tr><tr><td>2</td><td>5</td></tr><tr><td>3</td><td>6</td></tr><tr><td>4</td><td>7</td></tr><tr><td>5</td><td>8</td></tr></tbody></table></div>"
      ],
      "text/plain": [
       "shape: (5, 2)\n",
       "┌─────┬─────┐\n",
       "│ A   ┆ B   │\n",
       "│ --- ┆ --- │\n",
       "│ i64 ┆ i64 │\n",
       "╞═════╪═════╡\n",
       "│ 1   ┆ 4   │\n",
       "│ 2   ┆ 5   │\n",
       "│ 3   ┆ 6   │\n",
       "│ 4   ┆ 7   │\n",
       "│ 5   ┆ 8   │\n",
       "└─────┴─────┘"
      ]
     },
     "execution_count": 25,
     "metadata": {},
     "output_type": "execute_result"
    }
   ],
   "source": [
    "data_csv.head()"
   ]
  },
  {
   "cell_type": "code",
   "execution_count": 24,
   "id": "0f313321-3869-4d0b-a94c-c5b584c59446",
   "metadata": {
    "execution": {
     "iopub.execute_input": "2024-09-02T15:09:23.009841Z",
     "iopub.status.busy": "2024-09-02T15:09:23.008842Z",
     "iopub.status.idle": "2024-09-02T15:09:23.030953Z",
     "shell.execute_reply": "2024-09-02T15:09:23.029934Z",
     "shell.execute_reply.started": "2024-09-02T15:09:23.009841Z"
    }
   },
   "outputs": [
    {
     "data": {
      "text/html": [
       "<div><style>\n",
       ".dataframe > thead > tr,\n",
       ".dataframe > tbody > tr {\n",
       "  text-align: right;\n",
       "  white-space: pre-wrap;\n",
       "}\n",
       "</style>\n",
       "<small>shape: (9, 3)</small><table border=\"1\" class=\"dataframe\"><thead><tr><th>statistic</th><th>A</th><th>B</th></tr><tr><td>str</td><td>f64</td><td>f64</td></tr></thead><tbody><tr><td>&quot;count&quot;</td><td>5.0</td><td>5.0</td></tr><tr><td>&quot;null_count&quot;</td><td>0.0</td><td>0.0</td></tr><tr><td>&quot;mean&quot;</td><td>3.0</td><td>6.0</td></tr><tr><td>&quot;std&quot;</td><td>1.581139</td><td>1.581139</td></tr><tr><td>&quot;min&quot;</td><td>1.0</td><td>4.0</td></tr><tr><td>&quot;25%&quot;</td><td>2.0</td><td>5.0</td></tr><tr><td>&quot;50%&quot;</td><td>3.0</td><td>6.0</td></tr><tr><td>&quot;75%&quot;</td><td>4.0</td><td>7.0</td></tr><tr><td>&quot;max&quot;</td><td>5.0</td><td>8.0</td></tr></tbody></table></div>"
      ],
      "text/plain": [
       "shape: (9, 3)\n",
       "┌────────────┬──────────┬──────────┐\n",
       "│ statistic  ┆ A        ┆ B        │\n",
       "│ ---        ┆ ---      ┆ ---      │\n",
       "│ str        ┆ f64      ┆ f64      │\n",
       "╞════════════╪══════════╪══════════╡\n",
       "│ count      ┆ 5.0      ┆ 5.0      │\n",
       "│ null_count ┆ 0.0      ┆ 0.0      │\n",
       "│ mean       ┆ 3.0      ┆ 6.0      │\n",
       "│ std        ┆ 1.581139 ┆ 1.581139 │\n",
       "│ min        ┆ 1.0      ┆ 4.0      │\n",
       "│ 25%        ┆ 2.0      ┆ 5.0      │\n",
       "│ 50%        ┆ 3.0      ┆ 6.0      │\n",
       "│ 75%        ┆ 4.0      ┆ 7.0      │\n",
       "│ max        ┆ 5.0      ┆ 8.0      │\n",
       "└────────────┴──────────┴──────────┘"
      ]
     },
     "execution_count": 24,
     "metadata": {},
     "output_type": "execute_result"
    }
   ],
   "source": [
    "data_csv.describe()"
   ]
  },
  {
   "cell_type": "code",
   "execution_count": 28,
   "id": "dd86f568-2070-472b-8dbc-a9c16426cdef",
   "metadata": {
    "execution": {
     "iopub.execute_input": "2024-09-02T15:09:56.510502Z",
     "iopub.status.busy": "2024-09-02T15:09:56.509503Z",
     "iopub.status.idle": "2024-09-02T15:09:56.522575Z",
     "shell.execute_reply": "2024-09-02T15:09:56.521555Z",
     "shell.execute_reply.started": "2024-09-02T15:09:56.510502Z"
    }
   },
   "outputs": [
    {
     "data": {
      "text/html": [
       "<div><style>\n",
       ".dataframe > thead > tr,\n",
       ".dataframe > tbody > tr {\n",
       "  text-align: right;\n",
       "  white-space: pre-wrap;\n",
       "}\n",
       "</style>\n",
       "<small>shape: (5, 1)</small><table border=\"1\" class=\"dataframe\"><thead><tr><th>A</th></tr><tr><td>i64</td></tr></thead><tbody><tr><td>1</td></tr><tr><td>2</td></tr><tr><td>3</td></tr><tr><td>4</td></tr><tr><td>5</td></tr></tbody></table></div>"
      ],
      "text/plain": [
       "shape: (5, 1)\n",
       "┌─────┐\n",
       "│ A   │\n",
       "│ --- │\n",
       "│ i64 │\n",
       "╞═════╡\n",
       "│ 1   │\n",
       "│ 2   │\n",
       "│ 3   │\n",
       "│ 4   │\n",
       "│ 5   │\n",
       "└─────┘"
      ]
     },
     "execution_count": 28,
     "metadata": {},
     "output_type": "execute_result"
    }
   ],
   "source": [
    "data.select(pl.col(\"A\"))"
   ]
  },
  {
   "cell_type": "code",
   "execution_count": 29,
   "id": "7cfb1875-09bd-4531-9091-124663bea1d5",
   "metadata": {
    "execution": {
     "iopub.execute_input": "2024-09-02T15:10:18.405876Z",
     "iopub.status.busy": "2024-09-02T15:10:18.404859Z",
     "iopub.status.idle": "2024-09-02T15:10:18.416626Z",
     "shell.execute_reply": "2024-09-02T15:10:18.415598Z",
     "shell.execute_reply.started": "2024-09-02T15:10:18.405876Z"
    }
   },
   "outputs": [
    {
     "data": {
      "text/html": [
       "<div><style>\n",
       ".dataframe > thead > tr,\n",
       ".dataframe > tbody > tr {\n",
       "  text-align: right;\n",
       "  white-space: pre-wrap;\n",
       "}\n",
       "</style>\n",
       "<small>shape: (1, 1)</small><table border=\"1\" class=\"dataframe\"><thead><tr><th>A</th></tr><tr><td>f64</td></tr></thead><tbody><tr><td>3.0</td></tr></tbody></table></div>"
      ],
      "text/plain": [
       "shape: (1, 1)\n",
       "┌─────┐\n",
       "│ A   │\n",
       "│ --- │\n",
       "│ f64 │\n",
       "╞═════╡\n",
       "│ 3.0 │\n",
       "└─────┘"
      ]
     },
     "execution_count": 29,
     "metadata": {},
     "output_type": "execute_result"
    }
   ],
   "source": [
    "data.select(pl.col(\"A\").mean())"
   ]
  },
  {
   "cell_type": "code",
   "execution_count": 38,
   "id": "b58ebc50-8bb2-4e03-abcc-71d27bbf3512",
   "metadata": {
    "execution": {
     "iopub.execute_input": "2024-09-02T15:12:56.592514Z",
     "iopub.status.busy": "2024-09-02T15:12:56.591509Z",
     "iopub.status.idle": "2024-09-02T15:12:56.606029Z",
     "shell.execute_reply": "2024-09-02T15:12:56.604988Z",
     "shell.execute_reply.started": "2024-09-02T15:12:56.592514Z"
    }
   },
   "outputs": [
    {
     "data": {
      "text/html": [
       "<div><style>\n",
       ".dataframe > thead > tr,\n",
       ".dataframe > tbody > tr {\n",
       "  text-align: right;\n",
       "  white-space: pre-wrap;\n",
       "}\n",
       "</style>\n",
       "<small>shape: (1, 2)</small><table border=\"1\" class=\"dataframe\"><thead><tr><th>A</th><th>B</th></tr><tr><td>i64</td><td>i64</td></tr></thead><tbody><tr><td>4</td><td>7</td></tr></tbody></table></div>"
      ],
      "text/plain": [
       "shape: (1, 2)\n",
       "┌─────┬─────┐\n",
       "│ A   ┆ B   │\n",
       "│ --- ┆ --- │\n",
       "│ i64 ┆ i64 │\n",
       "╞═════╪═════╡\n",
       "│ 4   ┆ 7   │\n",
       "└─────┴─────┘"
      ]
     },
     "execution_count": 38,
     "metadata": {},
     "output_type": "execute_result"
    }
   ],
   "source": [
    "data.filter(pl.col(\"A\") > 3).filter(pl.col(\"B\") < 8)"
   ]
  },
  {
   "cell_type": "code",
   "execution_count": 39,
   "id": "51ff3781-4a72-4c03-bb2f-78d91f37c9a6",
   "metadata": {
    "execution": {
     "iopub.execute_input": "2024-09-02T15:13:04.004174Z",
     "iopub.status.busy": "2024-09-02T15:13:04.003172Z",
     "iopub.status.idle": "2024-09-02T15:13:04.017095Z",
     "shell.execute_reply": "2024-09-02T15:13:04.016067Z",
     "shell.execute_reply.started": "2024-09-02T15:13:04.004174Z"
    }
   },
   "outputs": [
    {
     "data": {
      "text/html": [
       "<div><style>\n",
       ".dataframe > thead > tr,\n",
       ".dataframe > tbody > tr {\n",
       "  text-align: right;\n",
       "  white-space: pre-wrap;\n",
       "}\n",
       "</style>\n",
       "<small>shape: (5, 2)</small><table border=\"1\" class=\"dataframe\"><thead><tr><th>A</th><th>B</th></tr><tr><td>i64</td><td>i64</td></tr></thead><tbody><tr><td>1</td><td>4</td></tr><tr><td>2</td><td>5</td></tr><tr><td>3</td><td>6</td></tr><tr><td>4</td><td>7</td></tr><tr><td>5</td><td>8</td></tr></tbody></table></div>"
      ],
      "text/plain": [
       "shape: (5, 2)\n",
       "┌─────┬─────┐\n",
       "│ A   ┆ B   │\n",
       "│ --- ┆ --- │\n",
       "│ i64 ┆ i64 │\n",
       "╞═════╪═════╡\n",
       "│ 1   ┆ 4   │\n",
       "│ 2   ┆ 5   │\n",
       "│ 3   ┆ 6   │\n",
       "│ 4   ┆ 7   │\n",
       "│ 5   ┆ 8   │\n",
       "└─────┴─────┘"
      ]
     },
     "execution_count": 39,
     "metadata": {},
     "output_type": "execute_result"
    }
   ],
   "source": [
    "data"
   ]
  },
  {
   "cell_type": "code",
   "execution_count": 40,
   "id": "a0191589-019c-438c-b8c9-181597b59137",
   "metadata": {
    "execution": {
     "iopub.execute_input": "2024-09-02T15:13:46.577751Z",
     "iopub.status.busy": "2024-09-02T15:13:46.576752Z",
     "iopub.status.idle": "2024-09-02T15:13:46.590385Z",
     "shell.execute_reply": "2024-09-02T15:13:46.589358Z",
     "shell.execute_reply.started": "2024-09-02T15:13:46.577751Z"
    }
   },
   "outputs": [
    {
     "data": {
      "text/html": [
       "<div><style>\n",
       ".dataframe > thead > tr,\n",
       ".dataframe > tbody > tr {\n",
       "  text-align: right;\n",
       "  white-space: pre-wrap;\n",
       "}\n",
       "</style>\n",
       "<small>shape: (1, 2)</small><table border=\"1\" class=\"dataframe\"><thead><tr><th>A</th><th>B</th></tr><tr><td>i64</td><td>i64</td></tr></thead><tbody><tr><td>1</td><td>4</td></tr></tbody></table></div>"
      ],
      "text/plain": [
       "shape: (1, 2)\n",
       "┌─────┬─────┐\n",
       "│ A   ┆ B   │\n",
       "│ --- ┆ --- │\n",
       "│ i64 ┆ i64 │\n",
       "╞═════╪═════╡\n",
       "│ 1   ┆ 4   │\n",
       "└─────┴─────┘"
      ]
     },
     "execution_count": 40,
     "metadata": {},
     "output_type": "execute_result"
    }
   ],
   "source": [
    "data.filter(pl.col(\"A\") < pl.col(\"A\").mean()).filter(pl.col(\"B\") == 4)"
   ]
  },
  {
   "cell_type": "code",
   "execution_count": null,
   "id": "9477b61e-d841-468b-a151-9486ae10a806",
   "metadata": {},
   "outputs": [],
   "source": []
  }
 ],
 "metadata": {
  "kernelspec": {
   "display_name": "Python 3 (ipykernel)",
   "language": "python",
   "name": "python3"
  },
  "language_info": {
   "codemirror_mode": {
    "name": "ipython",
    "version": 3
   },
   "file_extension": ".py",
   "mimetype": "text/x-python",
   "name": "python",
   "nbconvert_exporter": "python",
   "pygments_lexer": "ipython3",
   "version": "3.12.5"
  }
 },
 "nbformat": 4,
 "nbformat_minor": 5
}
